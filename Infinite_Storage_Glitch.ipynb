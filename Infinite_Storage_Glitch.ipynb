{
  "nbformat": 4,
  "nbformat_minor": 0,
  "metadata": {
    "colab": {
      "provenance": [],
      "mount_file_id": "1Wg0NnM8kHEFaV0S6Ncm2R9-WOXPoUIAE",
      "authorship_tag": "ABX9TyMXzevEpHU98YdmaI7fFIwp",
      "include_colab_link": true
    },
    "kernelspec": {
      "name": "python3",
      "display_name": "Python 3"
    },
    "language_info": {
      "name": "python"
    }
  },
  "cells": [
    {
      "cell_type": "markdown",
      "metadata": {
        "id": "view-in-github",
        "colab_type": "text"
      },
      "source": [
        "<a href=\"https://colab.research.google.com/github/Erick2317/Infinite-Storage-Glitch/blob/master/Infinite_Storage_Glitch.ipynb\" target=\"_parent\"><img src=\"https://colab.research.google.com/assets/colab-badge.svg\" alt=\"Open In Colab\"/></a>"
      ]
    },
    {
      "cell_type": "code",
      "source": [
        "# Install some necessary dependencies and clone the repository\n",
        "!apt-get update > /dev/null\n",
        "!apt-get install rustc > /dev/null\n",
        "!apt-get install cargo > /dev/null\n",
        "!git clone https://github.com/DvorakDwarf/Infinite-Storage-Glitch.git"
      ],
      "metadata": {
        "id": "8_W7LviqeaRw"
      },
      "execution_count": 1,
      "outputs": []
    },
    {
      "cell_type": "code",
      "source": [
        "# Build from source\n",
        "!cargo build --release --manifest-path /content/Infinite-Storage-Glitch/Cargo.toml"
      ],
      "metadata": {
        "id": "SZXVSeLQgF-8"
      },
      "execution_count": 2,
      "outputs": []
    },
    {
      "cell_type": "code",
      "source": [
        "# Change directory to /target/release\n",
        "%cd /content/Infinite-Storage-Glitch/target/release\n",
        "\n",
        "# Run the program ./isg_4real to embed the media files, this is the default options, run !./isg_4real embed --help to check the other parameters\n",
        "!./isg_4real embed -i /content/BadApple.mp4 --preset optimal --mode binary --block-size 2 --threads 8 --fps 10 --resolution 720"
      ],
      "metadata": {
        "id": "UjkS1rSq6AOG"
      },
      "execution_count": 5,
      "outputs": []
    },
    {
      "cell_type": "code",
      "source": [
        "# Change directory to /target/release\n",
        "%cd /content/Infinite-Storage-Glitch/target/release\n",
        "\n",
        "# Run the program ./isg_4real to download the YouTube video, change <URL> to the actual URL\n",
        "!./isg_4real download -u <URL>"
      ],
      "metadata": {
        "id": "Dsw9vVAJzkOM"
      },
      "execution_count": 3,
      "outputs": []
    },
    {
      "cell_type": "code",
      "source": [
        "# Change directory to /target/release\n",
        "%cd /content/Infinite-Storage-Glitch/target/release\n",
        "\n",
        "# Run the program ./isg_4real to dislodge the video, change <IN_PATH> and <out_PATH> to the actual paths\n",
        "!./isg_4real dislodge -i <IN_PATH> -o <OUT_PATH>"
      ],
      "metadata": {
        "id": "e_UBQtGV7Aql"
      },
      "execution_count": 4,
      "outputs": []
    }
  ]
}